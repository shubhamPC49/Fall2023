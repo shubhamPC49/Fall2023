{
 "cells": [
  {
   "cell_type": "markdown",
   "metadata": {},
   "source": [
    "## PART 1"
   ]
  },
  {
   "cell_type": "code",
   "execution_count": 1,
   "metadata": {},
   "outputs": [
    {
     "name": "stdout",
     "output_type": "stream",
     "text": [
      "   Unnamed: 0 label                                               text   \n",
      "0         605   ham  Subject: enron methanol ; meter # : 988291\\r\\n...  \\\n",
      "1        2349   ham  Subject: hpl nom for january 9 , 2001\\r\\n( see...   \n",
      "2        3624   ham  Subject: neon retreat\\r\\nho ho ho , we ' re ar...   \n",
      "3        4685  spam  Subject: photoshop , windows , office . cheap ...   \n",
      "4        2030   ham  Subject: re : indian springs\\r\\nthis deal is t...   \n",
      "\n",
      "   label_num  \n",
      "0          0  \n",
      "1          0  \n",
      "2          0  \n",
      "3          1  \n",
      "4          0  \n"
     ]
    }
   ],
   "source": [
    "import pandas as pd\n",
    "\n",
    "df = pd.read_csv('Lab2_dataset.csv')\n",
    "print(df.head())"
   ]
  },
  {
   "cell_type": "code",
   "execution_count": 2,
   "metadata": {},
   "outputs": [],
   "source": [
    "X = df['text']\n",
    "y = df['label']\n",
    "\n",
    "from sklearn.feature_extraction.text import CountVectorizer\n",
    "vectorizer = CountVectorizer(max_features=1000)  \n",
    "X_vectorized = vectorizer.fit_transform(X)\n",
    "from sklearn.model_selection import train_test_split\n",
    "X_train, X_test, y_train, y_test = train_test_split(X_vectorized, y, test_size=0.2, random_state=42)\n"
   ]
  },
  {
   "cell_type": "markdown",
   "metadata": {},
   "source": [
    "## PART A"
   ]
  },
  {
   "cell_type": "markdown",
   "metadata": {},
   "source": [
    "Model Training and Evaluation"
   ]
  },
  {
   "cell_type": "code",
   "execution_count": 3,
   "metadata": {},
   "outputs": [],
   "source": [
    "from sklearn.svm import SVC\n",
    "from sklearn.naive_bayes import GaussianNB, MultinomialNB\n",
    "from sklearn.metrics import accuracy_score, classification_report\n",
    "\n",
    "svc_classifier = SVC()\n",
    "svc_classifier.fit(X_train, y_train)\n",
    "svc_predictions = svc_classifier.predict(X_test)\n",
    "svc_accuracy = accuracy_score(y_test, svc_predictions)\n",
    "\n",
    "gnb_classifier = GaussianNB()\n",
    "gnb_classifier.fit(X_train.toarray(), y_train)\n",
    "gnb_predictions = gnb_classifier.predict(X_test.toarray())\n",
    "gnb_accuracy = accuracy_score(y_test, gnb_predictions)\n",
    "\n",
    "mnb_classifier = MultinomialNB()\n",
    "mnb_classifier.fit(X_train, y_train)\n",
    "mnb_predictions = mnb_classifier.predict(X_test)\n",
    "mnb_accuracy = accuracy_score(y_test, mnb_predictions)\n",
    "\n"
   ]
  },
  {
   "cell_type": "code",
   "execution_count": 4,
   "metadata": {},
   "outputs": [
    {
     "name": "stdout",
     "output_type": "stream",
     "text": [
      "Support Vector Classifier (SVC) Accuracy: 0.9497584541062802\n",
      "Gaussian Naive Bayes Accuracy: 0.9420289855072463\n",
      "Multinomial Naive Bayes Accuracy: 0.9342995169082126\n",
      "\n",
      "Classification Report for SVC:\n",
      "              precision    recall  f1-score   support\n",
      "\n",
      "         ham       0.98      0.95      0.96       742\n",
      "        spam       0.88      0.96      0.92       293\n",
      "\n",
      "    accuracy                           0.95      1035\n",
      "   macro avg       0.93      0.95      0.94      1035\n",
      "weighted avg       0.95      0.95      0.95      1035\n",
      "\n",
      "\n",
      "Classification Report for Gaussian Naive Bayes:\n",
      "              precision    recall  f1-score   support\n",
      "\n",
      "         ham       0.99      0.93      0.96       742\n",
      "        spam       0.85      0.97      0.90       293\n",
      "\n",
      "    accuracy                           0.94      1035\n",
      "   macro avg       0.92      0.95      0.93      1035\n",
      "weighted avg       0.95      0.94      0.94      1035\n",
      "\n",
      "\n",
      "Classification Report for Multinomial Naive Bayes:\n",
      "              precision    recall  f1-score   support\n",
      "\n",
      "         ham       0.97      0.94      0.95       742\n",
      "        spam       0.86      0.92      0.89       293\n",
      "\n",
      "    accuracy                           0.93      1035\n",
      "   macro avg       0.91      0.93      0.92      1035\n",
      "weighted avg       0.94      0.93      0.93      1035\n",
      "\n"
     ]
    }
   ],
   "source": [
    "print(\"Support Vector Classifier (SVC) Accuracy:\", svc_accuracy)\n",
    "print(\"Gaussian Naive Bayes Accuracy:\", gnb_accuracy)\n",
    "print(\"Multinomial Naive Bayes Accuracy:\", mnb_accuracy)\n",
    "\n",
    "print(\"\\nClassification Report for SVC:\")\n",
    "print(classification_report(y_test, svc_predictions))\n",
    "\n",
    "print(\"\\nClassification Report for Gaussian Naive Bayes:\")\n",
    "print(classification_report(y_test, gnb_predictions))\n",
    "\n",
    "print(\"\\nClassification Report for Multinomial Naive Bayes:\")\n",
    "print(classification_report(y_test, mnb_predictions))\n"
   ]
  },
  {
   "cell_type": "markdown",
   "metadata": {},
   "source": [
    "## PART B"
   ]
  },
  {
   "cell_type": "markdown",
   "metadata": {},
   "source": [
    "## These statistics give a sense of the overall distribution of prices in the dataset and can help us to identify potential outliers or anomalies"
   ]
  },
  {
   "cell_type": "code",
   "execution_count": 5,
   "metadata": {},
   "outputs": [
    {
     "name": "stdout",
     "output_type": "stream",
     "text": [
      "count    48895.000000\n",
      "mean       152.720687\n",
      "std        240.154170\n",
      "min          0.000000\n",
      "25%         69.000000\n",
      "50%        106.000000\n",
      "75%        175.000000\n",
      "max      10000.000000\n",
      "Name: price, dtype: float64\n"
     ]
    }
   ],
   "source": [
    "df2 = pd.read_csv('AB_NYC_2019.csv')\n",
    "df2.head()\n",
    "print(df2['price'].describe())"
   ]
  },
  {
   "cell_type": "code",
   "execution_count": 6,
   "metadata": {},
   "outputs": [
    {
     "name": "stdout",
     "output_type": "stream",
     "text": [
      "Number of outliers removed using Z-score approach: 388\n",
      "count    48507.000000\n",
      "mean       138.746903\n",
      "std        107.558233\n",
      "min          0.000000\n",
      "25%         69.000000\n",
      "50%        105.000000\n",
      "75%        175.000000\n",
      "max        860.000000\n",
      "Name: price, dtype: float64\n"
     ]
    }
   ],
   "source": [
    "from scipy import stats\n",
    "\n",
    "z_scores = stats.zscore(df2['price'])\n",
    "threshold = 3\n",
    "\n",
    "df2_no_outliers_z = df2[(z_scores < threshold)]\n",
    "\n",
    "print(\"Number of outliers removed using Z-score approach:\", len(df2) - len(df2_no_outliers_z))\n",
    "print(df2_no_outliers_z['price'].describe())\n"
   ]
  },
  {
   "cell_type": "code",
   "execution_count": 7,
   "metadata": {},
   "outputs": [
    {
     "name": "stdout",
     "output_type": "stream",
     "text": [
      "Number of outliers removed using whiskers (IQR) approach: 2972\n",
      "\n",
      "Statistics after whiskers approach:\n",
      "count    45923.000000\n",
      "mean       119.970320\n",
      "std         68.150148\n",
      "min          0.000000\n",
      "25%         65.000000\n",
      "50%        100.000000\n",
      "75%        159.000000\n",
      "max        334.000000\n",
      "Name: price, dtype: float64\n"
     ]
    }
   ],
   "source": [
    "Q1 = df2['price'].quantile(0.25)\n",
    "Q3 = df2['price'].quantile(0.75)\n",
    "\n",
    "IQR = Q3 - Q1\n",
    "\n",
    "lower_bound = Q1 - 1.5 * IQR\n",
    "upper_bound = Q3 + 1.5 * IQR\n",
    "\n",
    "df2_no_outliers_whiskers = df2[(df2['price'] >= lower_bound) & (df2['price'] <= upper_bound)]\n",
    "\n",
    "print(\"Number of outliers removed using whiskers (IQR) approach:\", len(df2) - len(df2_no_outliers_whiskers))\n",
    "print(\"\\nStatistics after whiskers approach:\")\n",
    "print(df2_no_outliers_whiskers['price'].describe())\n"
   ]
  },
  {
   "cell_type": "code",
   "execution_count": 8,
   "metadata": {},
   "outputs": [],
   "source": [
    "\n",
    "df2_no_outliers_z.to_csv('Cleaned_Data_Z_Score.csv', index=False)\n",
    "df2_no_outliers_whiskers.to_csv('Cleaned_Data_Whiskers.csv', index=False)\n"
   ]
  },
  {
   "cell_type": "markdown",
   "metadata": {},
   "source": [
    "From the results : -\n",
    "\n",
    "- Removing outliers reduced the mean price because outliers can strongly influence and skew the mean towards extreme values.\n",
    "- Removing outliers decreased the standard deviation, indicating that the data is now more tightly clustered around the mean.\n",
    "- Outliers removal made the highest values smaller by getting rid of extreme high values in the data.\n",
    "- The percentiles' values have remained relatively consistent, that means the overall average of the data has not undergone significant alterations."
   ]
  }
 ],
 "metadata": {
  "kernelspec": {
   "display_name": "CS8010",
   "language": "python",
   "name": "python3"
  },
  "language_info": {
   "codemirror_mode": {
    "name": "ipython",
    "version": 3
   },
   "file_extension": ".py",
   "mimetype": "text/x-python",
   "name": "python",
   "nbconvert_exporter": "python",
   "pygments_lexer": "ipython3",
   "version": "3.11.5"
  }
 },
 "nbformat": 4,
 "nbformat_minor": 2
}
